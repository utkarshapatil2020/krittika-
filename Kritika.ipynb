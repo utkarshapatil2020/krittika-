{
 "cells": [
  {
   "cell_type": "markdown",
   "id": "742ff469-4390-42d9-93ce-58082fe39ec7",
   "metadata": {},
   "source": [
    "# Q 1"
   ]
  },
  {
   "cell_type": "code",
   "execution_count": 2,
   "id": "6bd2a724-3eeb-47f1-878a-9056cc8b0e21",
   "metadata": {},
   "outputs": [],
   "source": [
    "import numpy as np\n",
    "import pandas as pd\n",
    "import matplotlib.pyplot as plt\n",
    "from scipy.optimize import curve_fit as cf\n"
   ]
  },
  {
   "cell_type": "code",
   "execution_count": 4,
   "id": "aa9d7719-b3d1-4c5c-a63d-a4b36426ef77",
   "metadata": {},
   "outputs": [],
   "source": [
    "file1 = \"Dataset_Q1.csv\""
   ]
  },
  {
   "cell_type": "code",
   "execution_count": 5,
   "id": "3b745e5d-d39b-4634-90c2-5d20abb0f62a",
   "metadata": {},
   "outputs": [],
   "source": [
    "# Solution Code\n",
    "def get_emails(file):\n",
    "    \n",
    "    df=pd.read_csv(file)\n",
    "    \n",
    "    for i in df.index :\n",
    "        \n",
    "        if i+1==len(df.index) :\n",
    "             print(str(df.loc[i,'Roll Number'])+'@iitb.ac.in')\n",
    "         \n",
    "        else :\n",
    "            print(str(df.loc[i,'Roll Number'])+'@iitb.ac.in',end=',')\n",
    "            \n",
    "           "
   ]
  },
  {
   "cell_type": "code",
   "execution_count": 14,
   "id": "b1f4911b-0724-4d16-a8f0-a83f6a756606",
   "metadata": {},
   "outputs": [
    {
     "name": "stdout",
     "output_type": "stream",
     "text": [
      "20000003@iitb.ac.in,20000006@iitb.ac.in,20010000@iitb.ac.in,19020000@iitb.ac.in,20000304@iitb.ac.in\n",
      "None\n"
     ]
    }
   ],
   "source": [
    "print(get_emails(file1))       \n"
   ]
  },
  {
   "cell_type": "markdown",
   "id": "fe933c3a-406b-4ed4-8752-4f93475fb10c",
   "metadata": {},
   "source": [
    "# Q 2"
   ]
  },
  {
   "cell_type": "code",
   "execution_count": 6,
   "id": "19ea5e86-5d8e-4a37-88cf-03a5c4da69b5",
   "metadata": {},
   "outputs": [],
   "source": [
    "file2 = 'Dataset_Q2.csv'"
   ]
  },
  {
   "cell_type": "code",
   "execution_count": 7,
   "id": "47e9971b-5ea8-4163-adb5-22083af80a0e",
   "metadata": {},
   "outputs": [],
   "source": [
    "df=pd.read_csv(file2)\n"
   ]
  },
  {
   "cell_type": "code",
   "execution_count": 13,
   "id": "d2daba3a-e05f-4934-a804-b073e8618383",
   "metadata": {},
   "outputs": [
    {
     "data": {
      "text/html": [
       "<div>\n",
       "<style scoped>\n",
       "    .dataframe tbody tr th:only-of-type {\n",
       "        vertical-align: middle;\n",
       "    }\n",
       "\n",
       "    .dataframe tbody tr th {\n",
       "        vertical-align: top;\n",
       "    }\n",
       "\n",
       "    .dataframe thead th {\n",
       "        text-align: right;\n",
       "    }\n",
       "</style>\n",
       "<table border=\"1\" class=\"dataframe\">\n",
       "  <thead>\n",
       "    <tr style=\"text-align: right;\">\n",
       "      <th></th>\n",
       "      <th>y</th>\n",
       "      <th>x1</th>\n",
       "      <th>x2</th>\n",
       "    </tr>\n",
       "  </thead>\n",
       "  <tbody>\n",
       "    <tr>\n",
       "      <th>0</th>\n",
       "      <td>4.404733</td>\n",
       "      <td>4.094511</td>\n",
       "      <td>0.009950</td>\n",
       "    </tr>\n",
       "    <tr>\n",
       "      <th>1</th>\n",
       "      <td>4.688339</td>\n",
       "      <td>4.750309</td>\n",
       "      <td>0.003992</td>\n",
       "    </tr>\n",
       "    <tr>\n",
       "      <th>2</th>\n",
       "      <td>4.967903</td>\n",
       "      <td>5.470294</td>\n",
       "      <td>0.003295</td>\n",
       "    </tr>\n",
       "    <tr>\n",
       "      <th>3</th>\n",
       "      <td>4.224826</td>\n",
       "      <td>3.571503</td>\n",
       "      <td>0.001499</td>\n",
       "    </tr>\n",
       "    <tr>\n",
       "      <th>4</th>\n",
       "      <td>4.847498</td>\n",
       "      <td>5.196451</td>\n",
       "      <td>0.006976</td>\n",
       "    </tr>\n",
       "    <tr>\n",
       "      <th>5</th>\n",
       "      <td>5.122151</td>\n",
       "      <td>5.885798</td>\n",
       "      <td>0.000890</td>\n",
       "    </tr>\n",
       "    <tr>\n",
       "      <th>6</th>\n",
       "      <td>4.513917</td>\n",
       "      <td>4.337291</td>\n",
       "      <td>0.073250</td>\n",
       "    </tr>\n",
       "    <tr>\n",
       "      <th>7</th>\n",
       "      <td>3.669922</td>\n",
       "      <td>2.349469</td>\n",
       "      <td>0.020783</td>\n",
       "    </tr>\n",
       "    <tr>\n",
       "      <th>8</th>\n",
       "      <td>5.206594</td>\n",
       "      <td>6.111046</td>\n",
       "      <td>0.009059</td>\n",
       "    </tr>\n",
       "  </tbody>\n",
       "</table>\n",
       "</div>"
      ],
      "text/plain": [
       "          y        x1        x2\n",
       "0  4.404733  4.094511  0.009950\n",
       "1  4.688339  4.750309  0.003992\n",
       "2  4.967903  5.470294  0.003295\n",
       "3  4.224826  3.571503  0.001499\n",
       "4  4.847498  5.196451  0.006976\n",
       "5  5.122151  5.885798  0.000890\n",
       "6  4.513917  4.337291  0.073250\n",
       "7  3.669922  2.349469  0.020783\n",
       "8  5.206594  6.111046  0.009059"
      ]
     },
     "execution_count": 13,
     "metadata": {},
     "output_type": "execute_result"
    }
   ],
   "source": [
    "df2 = pd.DataFrame()\n",
    "df2['y'] = np.log(df[df.columns[2]])                   #ln(a)=y x1=ln(T)  x2=ln(1+f)\n",
    "df2['x1'] = np.log(df[df.columns[1]])\n",
    "df2['x2'] = np.log(df[df.columns[0]] + 1 )\n",
    "df2"
   ]
  },
  {
   "cell_type": "markdown",
   "id": "048b2115-a241-4c7c-a604-c25a73e6e544",
   "metadata": {},
   "source": [
    "ln(a)= 1/2 ln(G(M+fM)/4pi*pi *T*T)\n",
    "\n",
    "ln(a)=y \n",
    "x1=ln(T)\n",
    "x2=ln(1+f)"
   ]
  },
  {
   "cell_type": "markdown",
   "id": "3cde7e66-5075-495f-b8e3-adca8d2a3a32",
   "metadata": {},
   "source": [
    "Value of x"
   ]
  },
  {
   "cell_type": "code",
   "execution_count": 10,
   "id": "0de4b475-34af-4159-a485-4dc28911fdc7",
   "metadata": {},
   "outputs": [
    {
     "name": "stdout",
     "output_type": "stream",
     "text": [
      "x =  2.4633804699830426\n"
     ]
    }
   ],
   "source": [
    "def func(X, m, b):\n",
    "    x1,x2 = X\n",
    "    return m*x1 + 0.5*m*x2 + b    #m=1/x b=0.5 m ln(MG/4pi*pi)\n",
    "\n",
    "x1 = df2['x1']\n",
    "x2 = df2['x2']\n",
    "y = df2['y']\n",
    "\n",
    "# initial guesses for m,b:\n",
    "p0 = 8., 2.\n",
    "coeffs, _ = (cf(func, (x1,x2), y, p0))   # coeffs=[m b]  m=1/x\n",
    "\n",
    "print('x = ' , 1/coeffs[0])      "
   ]
  },
  {
   "cell_type": "markdown",
   "id": "b40109a2-d098-40e9-9d8a-520e453d38c9",
   "metadata": {},
   "source": [
    "x!=1.5"
   ]
  },
  {
   "cell_type": "markdown",
   "id": "332021ad-7763-4789-8cd3-4476038166a1",
   "metadata": {},
   "source": [
    "value of G\n"
   ]
  },
  {
   "cell_type": "code",
   "execution_count": 14,
   "id": "0bebbbbf-dde4-474f-be6d-e4099cc0f047",
   "metadata": {},
   "outputs": [
    {
     "name": "stdout",
     "output_type": "stream",
     "text": [
      "G in terms of M =  28848325.688088555\n"
     ]
    }
   ],
   "source": [
    "x = 1/coeffs[0]\n",
    "b = coeffs[1]\n",
    "MG = (np.exp(2*x*b)*4*np.pi*np.pi)\n",
    "print('G in terms of M = ', MG)"
   ]
  },
  {
   "cell_type": "markdown",
   "id": "985f8133-a034-4148-811f-92eed3a1cabb",
   "metadata": {},
   "source": [
    "G=MG/M"
   ]
  },
  {
   "cell_type": "markdown",
   "id": "82f03da8-13f3-4e42-bb17-de1cca66694b",
   "metadata": {},
   "source": [
    "# Graph"
   ]
  },
  {
   "cell_type": "code",
   "execution_count": 27,
   "id": "79bcb006-9c98-4feb-beba-87142309f4b7",
   "metadata": {},
   "outputs": [
    {
     "data": {
      "text/plain": [
       "Text(0, 0.5, 'ln(a)(semimajor axis)')"
      ]
     },
     "execution_count": 27,
     "metadata": {},
     "output_type": "execute_result"
    },
    {
     "data": {
      "image/png": "[encoded data removed]",
      "text/plain": [
       "<Figure size 432x288 with 1 Axes>"
      ]
     },
     "metadata": {
      "needs_background": "light"
     },
     "output_type": "display_data"
    }
   ],
   "source": [
    "plt.scatter(x1,y,s=10,color='red')\n",
    "plt.plot(x1,func((x1,x2),coeffs[0],coeffs[1]),label='Best Fit',color='b')\n",
    "plt.xlabel('ln(T)')\n",
    "plt.ylabel('ln(a)(semimajor axis)')\n"
   ]
  }
 ],
 "metadata": {
  "kernelspec": {
   "display_name": "Python 3",
   "language": "python",
   "name": "python3"
  },
  "language_info": {
   "codemirror_mode": {
    "name": "ipython",
    "version": 3
   },
   "file_extension": ".py",
   "mimetype": "text/x-python",
   "name": "python",
   "nbconvert_exporter": "python",
   "pygments_lexer": "ipython3",
   "version": "3.8.8"
  }
 },
 "nbformat": 4,
 "nbformat_minor": 5
}
